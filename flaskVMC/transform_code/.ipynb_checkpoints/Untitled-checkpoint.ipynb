{
 "cells": [
  {
   "cell_type": "code",
   "execution_count": 3,
   "metadata": {},
   "outputs": [
    {
     "name": "stdout",
     "output_type": "stream",
     "text": [
      "Digest_Sequence_ID.db go.vcf                govcf-vmc.so\r\n",
      "Untitled.ipynb        govcf-vmc.go          transform.py\r\n",
      "\u001b[36mgo-vmc\u001b[m\u001b[m                govcf-vmc.h           vmc.go\r\n"
     ]
    }
   ],
   "source": [
    "!ls\n",
    "import pandas as pd\n"
   ]
  },
  {
   "cell_type": "code",
   "execution_count": 8,
   "metadata": {},
   "outputs": [
    {
     "name": "stdout",
     "output_type": "stream",
     "text": [
      "##fileformat=VCFv4.0\n",
      "##fileDate=20170710\n",
      "##source=dbSNP\n",
      "##dbSNP_BUILD_ID=150\n",
      "##reference=GRCh37.p13\n",
      "##phasing=partial\n",
      "##variationPropertyDocumentationUrl=ftp://ftp.ncbi.nlm.nih.gov/snp/specs/dbSNP_BitField_latest.pdf\n",
      "##INFO=<ID=RS,Number=1,Type=Integer,Description=\"dbSNP ID (i.e. rs number)\">\n",
      "##INFO=<ID=RSPOS,Number=1,Type=Integer,Description=\"Chr position reported in dbSNP\">\n",
      "##INFO=<ID=RV,Number=0,Type=Flag,Description=\"RS orientation is reversed\">\n",
      "##INFO=<ID=VP,Number=1,Type=String,Description=\"Variation Property.  Documentation is at ftp://ftp.ncbi.nlm.nih.gov/snp/specs/dbSNP_BitField_latest.pdf\">\n",
      "##INFO=<ID=GENEINFO,Number=1,Type=String,Description=\"Pairs each of gene symbol:gene id.  The gene symbol and id are delimited by a colon (:) and each pair is delimited by a vertical bar (|)\">\n",
      "##INFO=<ID=dbSNPBuildID,Number=1,Type=Integer,Description=\"First dbSNP Build for RS\">\n",
      "##INFO=<ID=SAO,Number=1,Type=Integer,Description=\"Variant Allele Origin: 0 - unspecified, 1 - Germline, 2 - Somatic, 3 - Both\">\n",
      "##INFO=<ID=SSR,Number=1,Type=Integer,Description=\"Variant Suspect Reason Codes (may be more than one value added together) 0 - unspecified, 1 - Paralog, 2 - byEST, 4 - oldAlign, 8 - Para_EST, 16 - 1kg_failed, 1024 - other\">\n",
      "##INFO=<ID=WGT,Number=1,Type=Integer,Description=\"Weight, 00 - unmapped, 1 - weight 1, 2 - weight 2, 3 - weight 3 or more\">\n",
      "##INFO=<ID=VC,Number=1,Type=String,Description=\"Variation Class\">\n",
      "##INFO=<ID=PM,Number=0,Type=Flag,Description=\"Variant is Precious(Clinical,Pubmed Cited)\">\n",
      "##INFO=<ID=TPA,Number=0,Type=Flag,Description=\"Provisional Third Party Annotation(TPA) (currently rs from PHARMGKB who will give phenotype data)\">\n",
      "##INFO=<ID=PMC,Number=0,Type=Flag,Description=\"Links exist to PubMed Central article\">\n",
      "##INFO=<ID=S3D,Number=0,Type=Flag,Description=\"Has 3D structure - SNP3D table\">\n",
      "##INFO=<ID=SLO,Number=0,Type=Flag,Description=\"Has SubmitterLinkOut - From SNP->SubSNP->Batch.link_out\">\n",
      "##INFO=<ID=NSF,Number=0,Type=Flag,Description=\"Has non-synonymous frameshift A coding region variation where one allele in the set changes all downstream amino acids. FxnClass = 44\">\n",
      "##INFO=<ID=NSM,Number=0,Type=Flag,Description=\"Has non-synonymous missense A coding region variation where one allele in the set changes protein peptide. FxnClass = 42\">\n",
      "##INFO=<ID=NSN,Number=0,Type=Flag,Description=\"Has non-synonymous nonsense A coding region variation where one allele in the set changes to STOP codon (TER). FxnClass = 41\">\n",
      "##INFO=<ID=REF,Number=0,Type=Flag,Description=\"Has reference A coding region variation where one allele in the set is identical to the reference sequence. FxnCode = 8\">\n",
      "##INFO=<ID=SYN,Number=0,Type=Flag,Description=\"Has synonymous A coding region variation where one allele in the set does not change the encoded amino acid. FxnCode = 3\">\n",
      "##INFO=<ID=U3,Number=0,Type=Flag,Description=\"In 3' UTR Location is in an untranslated region (UTR). FxnCode = 53\">\n",
      "##INFO=<ID=U5,Number=0,Type=Flag,Description=\"In 5' UTR Location is in an untranslated region (UTR). FxnCode = 55\">\n",
      "##INFO=<ID=ASS,Number=0,Type=Flag,Description=\"In acceptor splice site FxnCode = 73\">\n",
      "##INFO=<ID=DSS,Number=0,Type=Flag,Description=\"In donor splice-site FxnCode = 75\">\n",
      "##INFO=<ID=INT,Number=0,Type=Flag,Description=\"In Intron FxnCode = 6\">\n",
      "##INFO=<ID=R3,Number=0,Type=Flag,Description=\"In 3' gene region FxnCode = 13\">\n",
      "##INFO=<ID=R5,Number=0,Type=Flag,Description=\"In 5' gene region FxnCode = 15\">\n",
      "##INFO=<ID=OTH,Number=0,Type=Flag,Description=\"Has other variant with exactly the same set of mapped positions on NCBI refernce assembly.\">\n",
      "##INFO=<ID=CFL,Number=0,Type=Flag,Description=\"Has Assembly conflict. This is for weight 1 and 2 variant that maps to different chromosomes on different assemblies.\">\n",
      "##INFO=<ID=ASP,Number=0,Type=Flag,Description=\"Is Assembly specific. This is set if the variant only maps to one assembly\">\n",
      "##INFO=<ID=MUT,Number=0,Type=Flag,Description=\"Is mutation (journal citation, explicit fact): a low frequency variation that is cited in journal and other reputable sources\">\n",
      "##INFO=<ID=VLD,Number=0,Type=Flag,Description=\"Is Validated.  This bit is set if the variant has 2+ minor allele count based on frequency or genotype data.\">\n",
      "##INFO=<ID=G5A,Number=0,Type=Flag,Description=\">5% minor allele frequency in each and all populations\">\n",
      "##INFO=<ID=G5,Number=0,Type=Flag,Description=\">5% minor allele frequency in 1+ populations\">\n",
      "##INFO=<ID=HD,Number=0,Type=Flag,Description=\"Marker is on high density genotyping kit (50K density or greater).  The variant may have phenotype associations present in dbGaP.\">\n",
      "##INFO=<ID=GNO,Number=0,Type=Flag,Description=\"Genotypes available. The variant has individual genotype (in SubInd table).\">\n",
      "##INFO=<ID=KGPhase1,Number=0,Type=Flag,Description=\"1000 Genome phase 1 (incl. June Interim phase 1)\">\n",
      "##INFO=<ID=KGPhase3,Number=0,Type=Flag,Description=\"1000 Genome phase 3\">\n",
      "##INFO=<ID=CDA,Number=0,Type=Flag,Description=\"Variation is interrogated in a clinical diagnostic assay\">\n",
      "##INFO=<ID=LSD,Number=0,Type=Flag,Description=\"Submitted from a locus-specific database\">\n",
      "##INFO=<ID=MTP,Number=0,Type=Flag,Description=\"Microattribution/third-party annotation(TPA:GWAS,PAGE)\">\n",
      "##INFO=<ID=OM,Number=0,Type=Flag,Description=\"Has OMIM/OMIA\">\n",
      "##INFO=<ID=NOC,Number=0,Type=Flag,Description=\"Contig allele not present in variant allele list. The reference sequence allele at the mapped position is not present in the variant allele list, adjusted for orientation.\">\n",
      "##INFO=<ID=WTD,Number=0,Type=Flag,Description=\"Is Withdrawn by submitter If one member ss is withdrawn by submitter, then this bit is set.  If all member ss' are withdrawn, then the rs is deleted to SNPHistory\">\n",
      "##INFO=<ID=NOV,Number=0,Type=Flag,Description=\"Rs cluster has non-overlapping allele sets. True when rs set has more than 2 alleles from different submissions and these sets share no alleles in common.\">\n",
      "##FILTER=<ID=NC,Description=\"Inconsistent Genotype Submission For At Least One Sample\">\n",
      "##INFO=<ID=CAF,Number=.,Type=String,Description=\"An ordered, comma delimited list of allele frequencies based on 1000Genomes, starting with the reference allele followed by alternate alleles as ordered in the ALT column. Where a 1000Genomes alternate allele is not in the dbSNPs alternate allele set, the allele is added to the ALT column. The minor allele is the second largest value in the list, and was previuosly reported in VCF as the GMAF. This is the GMAF reported on the RefSNP and EntrezSNP pages and VariationReporter\">\n",
      "##INFO=<ID=COMMON,Number=1,Type=Integer,Description=\"RS is a common SNP.  A common SNP is one that has at least one 1000Genomes population with a minor allele of frequency >= 1% and for which 2 or more founders contribute to that minor allele frequency.\">\n",
      "##INFO=<ID=TOPMED,Number=.,Type=String,Description=\"An ordered, comma delimited list of allele frequencies based on TOPMed, starting with the reference allele followed by alternate alleles as ordered in the ALT column. The TOPMed minor allele is the second largest value in the list.\">\n",
      "#CHROM\tPOS\tID\tREF\tALT\tQUAL\tFILTER\tINFO\n",
      "\n"
     ]
    }
   ],
   "source": [
    "with open(\"go.vcf\", \"r\") as go:\n",
    "    with open(\"../static/uploads/test.vcf\") as transform:\n",
    "        go_df =  pd.read_table(go)\n",
    "        header = \"\"\n",
    "        cols = \"\"\n",
    "        for line in transform:\n",
    "            if line[1] == \"#\":\n",
    "                header += line\n",
    "            elif line[0] == \"#\":\n",
    "                cols += line\n",
    "        print(header + cols)"
   ]
  },
  {
   "cell_type": "code",
   "execution_count": null,
   "metadata": {
    "collapsed": true
   },
   "outputs": [],
   "source": []
  }
 ],
 "metadata": {
  "kernelspec": {
   "display_name": "Python 3",
   "language": "python",
   "name": "python3"
  },
  "language_info": {
   "codemirror_mode": {
    "name": "ipython",
    "version": 3
   },
   "file_extension": ".py",
   "mimetype": "text/x-python",
   "name": "python",
   "nbconvert_exporter": "python",
   "pygments_lexer": "ipython3",
   "version": "3.6.2"
  }
 },
 "nbformat": 4,
 "nbformat_minor": 2
}
